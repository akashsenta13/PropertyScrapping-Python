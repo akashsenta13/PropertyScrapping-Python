{
 "cells": [
  {
   "cell_type": "code",
   "execution_count": 1,
   "metadata": {},
   "outputs": [],
   "source": [
    "#https://www.commonfloor.com/ahmedabad-property/for-sale\n",
    "#https://www.commonfloor.com/ahmedabad-property/for-sale?page=2"
   ]
  },
  {
   "cell_type": "code",
   "execution_count": 64,
   "metadata": {},
   "outputs": [
    {
     "name": "stdout",
     "output_type": "stream",
     "text": [
      "https://www.commonfloor.com/ahmedabad-property/for-sale?page=0\n",
      "https://www.commonfloor.com/ahmedabad-property/for-sale?page=1\n",
      "https://www.commonfloor.com/ahmedabad-property/for-sale?page=2\n"
     ]
    }
   ],
   "source": [
    "import requests\n",
    "from bs4 import BeautifulSoup\n",
    "import pandas ,time\n",
    "\n",
    "l = []\n",
    "base_ur = \"https://www.commonfloor.com/ahmedabad-property/for-sale?page=\"\n",
    "for page in range(0,3):  # looping over pages\n",
    "    print(base_ur+str(page))\n",
    "    r = requests.get(\"https://www.commonfloor.com/ahmedabad-property/for-sale\") \n",
    "    c = r.content\n",
    "    soup = BeautifulSoup(c,\"html.parser\")\n",
    "\n",
    "    divs = soup.find_all(\"div\",{\"class\":\"snb-tile\"})\n",
    "    for div in divs:\n",
    "         d = {}\n",
    "         title_div = div.find(\"div\",{\"class\":\"st_title\"})\n",
    "         d['title'] = title_div.find(\"a\").text.replace(\"\\n\",\"\")\n",
    "         d['price'] = title_div.find(\"span\",{\"class\",\"s_p\"}).text.replace(\"\\n\",\"\").replace(\" \",\"\")\n",
    "\n",
    "         info_div = div.find(\"div\",{\"class\":\"snb-info-dls\"})\n",
    "         CarpetArea = info_div.find_all(\"div\",{\"class\":\"infodata\"})[0].text.replace(\"\\n\",\"-\").replace(\"--\",\"-\").replace(\" \",\"\")\n",
    "         d['CarpetArea'] = CarpetArea[1:len(CarpetArea)-1].split(\"-\")[1]\n",
    "         Possession = info_div.find_all(\"div\",{\"class\":\"infodata\"})[1].text.replace(\"\\n\",\"-\").replace(\"--\",\"-\").replace(\" \",\"\")\n",
    "         d['Possession On'] = Possession[1:len(Possession)-1].split(\"-\")[1]\n",
    "         Floor = info_div.find_all(\"div\",{\"class\":\"infodata\"})[2].text.replace(\"\\n\",\"-\").replace(\"--\",\"-\").replace(\" \",\"\")\n",
    "         d['Floor'] = Floor[1:len(Floor)-1].split(\"-\")[1]\n",
    "         Bathrooms = info_div.find_all(\"div\",{\"class\":\"infodata\"})[3].text.replace(\"\\n\",\"-\").replace(\"--\",\"-\").replace(\" \",\"\")\n",
    "         d['Bathrooms'] = Bathrooms[1:len(Bathrooms)-1].split(\"-\")[1]\n",
    "         l.append(d)\n",
    "    time.sleep(5)\n",
    "\n",
    "df = pandas.DataFrame(l)\n",
    "df.to_csv(\"output.csv\")"
   ]
  },
  {
   "cell_type": "code",
   "execution_count": 51,
   "metadata": {},
   "outputs": [],
   "source": []
  },
  {
   "cell_type": "code",
   "execution_count": null,
   "metadata": {},
   "outputs": [],
   "source": []
  },
  {
   "cell_type": "code",
   "execution_count": null,
   "metadata": {},
   "outputs": [],
   "source": []
  },
  {
   "cell_type": "code",
   "execution_count": null,
   "metadata": {},
   "outputs": [],
   "source": []
  }
 ],
 "metadata": {
  "kernelspec": {
   "display_name": "Python 3",
   "language": "python",
   "name": "python3"
  },
  "language_info": {
   "codemirror_mode": {
    "name": "ipython",
    "version": 3
   },
   "file_extension": ".py",
   "mimetype": "text/x-python",
   "name": "python",
   "nbconvert_exporter": "python",
   "pygments_lexer": "ipython3",
   "version": "3.7.1"
  }
 },
 "nbformat": 4,
 "nbformat_minor": 2
}
