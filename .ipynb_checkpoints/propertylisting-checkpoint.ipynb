{
 "cells": [
  {
   "cell_type": "code",
   "execution_count": 1,
   "metadata": {},
   "outputs": [],
   "source": [
    "#https://www.commonfloor.com/ahmedabad-property/for-sale\n",
    "#https://www.commonfloor.com/ahmedabad-property/for-sale?page=2"
   ]
  },
  {
   "cell_type": "code",
   "execution_count": 33,
   "metadata": {},
   "outputs": [],
   "source": [
    "import requests\n",
    "from bs4 import BeautifulSoup\n",
    "\n",
    "r = requests.get(\"https://www.commonfloor.com/ahmedabad-property/for-sale\")\n",
    "c = r.content\n",
    "soup = BeautifulSoup(c,\"html.parser\")\n",
    "\n",
    "divs = soup.find_all(\"div\",{\"class\":\"snb-tile\"})"
   ]
  },
  {
   "cell_type": "code",
   "execution_count": 46,
   "metadata": {},
   "outputs": [
    {
     "name": "stdout",
     "output_type": "stream",
     "text": [
      "{'title': '2BHK Apartment for Sale in South Bopal', 'price': '37.04L', 'CarpetArea': '717sq.ft', 'Possession On': \"Dec'20\", 'Floor': 'GroundFloor', 'Bathrooms': '2'}\n",
      "{'title': '3BHK Apartment for Sale in S G Highway', 'price': '55.65L', 'CarpetArea': '882sq.ft', 'Possession On': \"Mar'19\", 'Floor': '10', 'Bathrooms': '3'}\n",
      "{'title': '2BHK Apartment for Sale in S P Ring Road', 'price': '39.95L', 'CarpetArea': '592sq.ft', 'Possession On': \"Jun'20\", 'Floor': 'GroundFloor', 'Bathrooms': '2'}\n",
      "{'title': '3BHK Apartment for Sale in Prahlad Nagar', 'price': '1.10Cr', 'CarpetArea': '1200sq.ft', 'Possession On': 'ReadyToMove', 'Floor': '3', 'Bathrooms': '3'}\n",
      "{'title': '3BHK Apartment for Sale in Ambawadi', 'price': '1.39Cr', 'CarpetArea': '1331sq.ft', 'Possession On': \"Mar'20\", 'Floor': 'GroundFloor', 'Bathrooms': '3'}\n",
      "{'title': '3BHK Apartment for Sale in S G Highway', 'price': '69.25L', 'CarpetArea': '1245sq.ft', 'Possession On': \"Apr'19\", 'Floor': '6', 'Bathrooms': '3'}\n",
      "{'title': '2BHK Apartment for Sale in Jagatpur', 'price': '63L', 'CarpetArea': '872sq.ft', 'Possession On': \"Jun'22\", 'Floor': '15', 'Bathrooms': '2'}\n",
      "{'title': '2BHK BuilderFloor for Sale in S G Highway', 'price': '32L', 'CarpetArea': '608sq.ft', 'Possession On': 'ReadyToMove', 'Floor': '5', 'Bathrooms': '2'}\n",
      "{'title': 'Fully Furnished 3BHK Apartment for Sale in Thaltej', 'price': '1.35Cr', 'CarpetArea': '1110sq.ft', 'Possession On': 'ReadyToMove', 'Floor': '2', 'Bathrooms': '3'}\n",
      "{'title': 'Fully Furnished 3BHK Apartment for Sale in Prahlad Nagar', 'price': '1.15Cr', 'CarpetArea': '1050sq.ft', 'Possession On': 'ReadyToMove', 'Floor': '4', 'Bathrooms': '3'}\n",
      "{'title': 'Semi Furnished 3BHK Apartment for Sale in Bodakdev', 'price': '1.15Cr', 'CarpetArea': '1650sq.ft', 'Possession On': 'ReadyToMove', 'Floor': '4', 'Bathrooms': '3'}\n",
      "{'title': '3BHK Apartment for Sale in S G Highway', 'price': '50.22L', 'CarpetArea': '925sq.ft', 'Possession On': \"Apr'19\", 'Floor': '6', 'Bathrooms': '2'}\n",
      "{'title': 'Fully Furnished 3BHK Apartment for Sale in Thaltej Road', 'price': '1.70Cr', 'CarpetArea': '1500sq.ft', 'Possession On': 'ReadyToMove', 'Floor': '1', 'Bathrooms': '3'}\n",
      "{'title': '1BHK BuilderFloor for Sale in S G Highway', 'price': '20L', 'CarpetArea': '472sq.ft', 'Possession On': 'ReadyToMove', 'Floor': '4', 'Bathrooms': '1'}\n",
      "{'title': '3BHK Apartment for Sale in S G Highway', 'price': '68.91L', 'CarpetArea': '1189sq.ft', 'Possession On': \"Mar'19\", 'Floor': '12', 'Bathrooms': '3'}\n",
      "{'title': '2BHK Apartment for Sale in Jagatpur', 'price': '44.99L', 'CarpetArea': '633sq.ft', 'Possession On': \"Jun'22\", 'Floor': '17', 'Bathrooms': '2'}\n",
      "{'title': 'Fully Furnished 3BHK Apartment for Sale in S G Highway', 'price': '78L', 'CarpetArea': '918sq.ft', 'Possession On': 'ReadyToMove', 'Floor': '5', 'Bathrooms': '3'}\n",
      "{'title': '2BHK Apartment for Sale in South Bopal', 'price': '36L', 'CarpetArea': '696sq.ft', 'Possession On': \"Dec'20\", 'Floor': '10', 'Bathrooms': '2'}\n",
      "{'title': 'Semi Furnished 2BHK Apartment for Sale in Chandkheda', 'price': '38L', 'CarpetArea': '660sq.ft', 'Possession On': 'ReadyToMove', 'Floor': '2', 'Bathrooms': '2'}\n",
      "{'title': '3BHK Apartment for Sale in Vastrapur', 'price': '1.13Cr', 'CarpetArea': '1332sq.ft', 'Possession On': 'ReadyToMove', 'Floor': '4', 'Bathrooms': '3'}\n",
      "{'title': '2BHK Apartment for Sale in Chandkheda', 'price': '32.51L', 'CarpetArea': '1000sq.ft', 'Possession On': 'ReadyToMove', 'Floor': '2', 'Bathrooms': '2'}\n",
      "{'title': 'Fully Furnished 2BHK Apartment for Sale in S G Highway', 'price': '54.25L', 'CarpetArea': '850sq.ft', 'Possession On': \"Apr'19\", 'Floor': '4', 'Bathrooms': '2'}\n",
      "{'title': '2BHK Apartment for Sale in Bopal', 'price': '37.60L', 'CarpetArea': '705sq.ft', 'Possession On': \"Dec'20\", 'Floor': '5', 'Bathrooms': '2'}\n",
      "{'title': '4BHK Apartment for Sale in Bodakdev', 'price': '3.60Cr', 'CarpetArea': '2100sq.ft', 'Possession On': 'ReadyToMove', 'Floor': 'GroundFloor', 'Bathrooms': '4'}\n",
      "{'title': 'Semi Furnished 2BHK Apartment for Sale in Ghuma', 'price': '34L', 'CarpetArea': '756sq.ft', 'Possession On': \"Apr'19\", 'Floor': '1', 'Bathrooms': '2'}\n",
      "{'title': 'Fully Furnished 2BHK Villa for Sale in Gurukul', 'price': '59L', 'CarpetArea': '933sq.ft', 'Possession On': 'ReadyToMove', 'Floor': 'GroundFloor', 'Bathrooms': '2'}\n",
      "{'title': '4BHK Apartment for Sale in Vastrapur', 'price': '1.62Cr', 'CarpetArea': '1920sq.ft', 'Possession On': 'ReadyToMove', 'Floor': 'GroundFloor', 'Bathrooms': '4'}\n",
      "{'title': '3BHK Apartment for Sale in Vastrapur', 'price': '1.07Cr', 'CarpetArea': '1293sq.ft', 'Possession On': \"Dec'20\", 'Floor': '5', 'Bathrooms': '3'}\n",
      "{'title': '2BHK Apartment for Sale in S G Highway', 'price': '65L', 'CarpetArea': '558sq.ft', 'Possession On': 'ReadyToMove', 'Floor': '8', 'Bathrooms': '2'}\n",
      "{'title': '4BHK Apartment for Sale in Vaishnodevi Circle', 'price': '1.70Cr', 'CarpetArea': '2420sq.ft', 'Possession On': \"Mar'19\", 'Floor': '12', 'Bathrooms': '4'}\n",
      "{'title': '2BHK Apartment for Sale in S G Highway', 'price': '38L', 'CarpetArea': '816sq.ft', 'Possession On': 'ReadyToMove', 'Floor': '8', 'Bathrooms': '2'}\n"
     ]
    }
   ],
   "source": [
    "l = []\n",
    "for div in divs:\n",
    "     d = {}\n",
    "     title_div = div.find(\"div\",{\"class\":\"st_title\"})\n",
    "     d['title'] = title_div.find(\"a\").text.replace(\"\\n\",\"\")\n",
    "     d['price'] = title_div.find(\"span\",{\"class\",\"s_p\"}).text.replace(\"\\n\",\"\").replace(\" \",\"\")\n",
    "     \n",
    "     info_div = div.find(\"div\",{\"class\":\"snb-info-dls\"})\n",
    "     CarpetArea = info_div.find_all(\"div\",{\"class\":\"infodata\"})[0].text.replace(\"\\n\",\"-\").replace(\"--\",\"-\").replace(\" \",\"\")\n",
    "     d['CarpetArea'] = CarpetArea[1:len(CarpetArea)-1].split(\"-\")[1]\n",
    "     Possession = info_div.find_all(\"div\",{\"class\":\"infodata\"})[1].text.replace(\"\\n\",\"-\").replace(\"--\",\"-\").replace(\" \",\"\")\n",
    "     d['Possession On'] = Possession[1:len(Possession)-1].split(\"-\")[1]\n",
    "     Floor = info_div.find_all(\"div\",{\"class\":\"infodata\"})[2].text.replace(\"\\n\",\"-\").replace(\"--\",\"-\").replace(\" \",\"\")\n",
    "     d['Floor'] = Floor[1:len(Floor)-1].split(\"-\")[1]\n",
    "     Bathrooms = info_div.find_all(\"div\",{\"class\":\"infodata\"})[3].text.replace(\"\\n\",\"-\").replace(\"--\",\"-\").replace(\" \",\"\")\n",
    "     d['Bathrooms'] = Bathrooms[1:len(Bathrooms)-1].split(\"-\")[1]\n",
    "     l.append(d)"
   ]
  },
  {
   "cell_type": "code",
   "execution_count": null,
   "metadata": {},
   "outputs": [],
   "source": []
  }
 ],
 "metadata": {
  "kernelspec": {
   "display_name": "Python 3",
   "language": "python",
   "name": "python3"
  },
  "language_info": {
   "codemirror_mode": {
    "name": "ipython",
    "version": 3
   },
   "file_extension": ".py",
   "mimetype": "text/x-python",
   "name": "python",
   "nbconvert_exporter": "python",
   "pygments_lexer": "ipython3",
   "version": "3.7.1"
  }
 },
 "nbformat": 4,
 "nbformat_minor": 2
}
